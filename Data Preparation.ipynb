{
 "cells": [
  {
   "cell_type": "code",
   "execution_count": 1,
   "metadata": {},
   "outputs": [],
   "source": [
    "import os\n",
    "import glob\n",
    "import csv\n",
    "import json\n",
    "import pandas as pd"
   ]
  },
  {
   "cell_type": "markdown",
   "metadata": {},
   "source": [
    "# Part 1: Prepare 2017-2018 Data\n",
    "Raw Data Source: https://www.kaggle.com/datasnaek/youtube-new"
   ]
  },
  {
   "cell_type": "markdown",
   "metadata": {},
   "source": [
    "## 1.1 Read Files"
   ]
  },
  {
   "cell_type": "code",
   "execution_count": 2,
   "metadata": {},
   "outputs": [
    {
     "data": {
      "text/plain": [
       "'E:\\\\Sem 9\\\\IST3134 Big Data Analytics in the Cloud\\\\Assignment (MapReduce)\\\\Raw Data\\\\2017-2018'"
      ]
     },
     "execution_count": 2,
     "metadata": {},
     "output_type": "execute_result"
    }
   ],
   "source": [
    "# Change directory to folder containing csv raw data\n",
    "raw_data_path = os.path.join(\"Raw Data\", \"2017-2018\")\n",
    "os.chdir(raw_data_path)\n",
    "\n",
    "# Print the current directory \n",
    "os.getcwd()"
   ]
  },
  {
   "cell_type": "code",
   "execution_count": 3,
   "metadata": {},
   "outputs": [],
   "source": [
    "# Get all filenames with csv extension\n",
    "extension = 'csv'\n",
    "data_filenames = [i for i in glob.glob('*.{}'.format(extension))]"
   ]
  },
  {
   "cell_type": "code",
   "execution_count": 5,
   "metadata": {
    "scrolled": true
   },
   "outputs": [
    {
     "name": "stderr",
     "output_type": "stream",
     "text": [
      "b'Skipping line 8155: expected 16 fields, saw 31\\nSkipping line 8243: expected 16 fields, saw 31\\nSkipping line 13554: expected 16 fields, saw 31\\nSkipping line 14615: expected 16 fields, saw 31\\nSkipping line 14855: expected 16 fields, saw 31\\nSkipping line 15134: expected 16 fields, saw 31\\n'\n",
      "b'Skipping line 650: expected 16 fields, saw 30\\nSkipping line 869: expected 16 fields, saw 30\\nSkipping line 4594: expected 16 fields, saw 31\\nSkipping line 4772: expected 16 fields, saw 25\\nSkipping line 4817: expected 16 fields, saw 31\\nSkipping line 5044: expected 16 fields, saw 31\\nSkipping line 5414: expected 16 fields, saw 25\\nSkipping line 5645: expected 16 fields, saw 25\\nSkipping line 5853: expected 16 fields, saw 30\\nSkipping line 8404: expected 16 fields, saw 25\\nSkipping line 8442: expected 16 fields, saw 25\\nSkipping line 8643: expected 16 fields, saw 31\\nSkipping line 8672: expected 16 fields, saw 25\\nSkipping line 9750: expected 16 fields, saw 25\\nSkipping line 10006: expected 16 fields, saw 30\\nSkipping line 10205: expected 16 fields, saw 25\\nSkipping line 12265: expected 16 fields, saw 31\\nSkipping line 12484: expected 16 fields, saw 31\\nSkipping line 12668: expected 16 fields, saw 31\\nSkipping line 12827: expected 16 fields, saw 31\\nSkipping line 18204: expected 16 fields, saw 25\\nSkipping line 19057: expected 16 fields, saw 31\\nSkipping line 19163: expected 16 fields, saw 31\\nSkipping line 19384: expected 16 fields, saw 31\\nSkipping line 20118: expected 16 fields, saw 31\\nSkipping line 20342: expected 16 fields, saw 31\\nSkipping line 21200: expected 16 fields, saw 31\\nSkipping line 25186: expected 16 fields, saw 25\\nSkipping line 25391: expected 16 fields, saw 25\\nSkipping line 25530: expected 16 fields, saw 31\\nSkipping line 25737: expected 16 fields, saw 25\\nSkipping line 27130: expected 16 fields, saw 25\\nSkipping line 27588: expected 16 fields, saw 25\\nSkipping line 27729: expected 16 fields, saw 25\\nSkipping line 27819: expected 16 fields, saw 25\\nSkipping line 27876: expected 16 fields, saw 25\\nSkipping line 27954: expected 16 fields, saw 25\\nSkipping line 28187: expected 16 fields, saw 31\\nSkipping line 28490: expected 16 fields, saw 25\\nSkipping line 28718: expected 16 fields, saw 30\\nSkipping line 32277: expected 16 fields, saw 30\\nSkipping line 32554: expected 16 fields, saw 25\\n'\n",
      "b'Skipping line 1768: expected 16 fields, saw 20\\nSkipping line 1977: expected 16 fields, saw 32\\nSkipping line 4897: expected 16 fields, saw 25\\nSkipping line 5744: expected 16 fields, saw 25\\nSkipping line 6713: expected 16 fields, saw 25\\nSkipping line 6755: expected 16 fields, saw 25\\nSkipping line 7485: expected 16 fields, saw 25\\nSkipping line 8961: expected 16 fields, saw 25\\nSkipping line 17081: expected 16 fields, saw 25\\nSkipping line 17428: expected 16 fields, saw 25\\nSkipping line 18260: expected 16 fields, saw 25\\nSkipping line 19139: expected 16 fields, saw 30\\nSkipping line 19841: expected 16 fields, saw 25\\nSkipping line 20708: expected 16 fields, saw 25\\nSkipping line 29118: expected 16 fields, saw 25\\n'\n",
      "b'Skipping line 34314: expected 16 fields, saw 20\\nSkipping line 35266: expected 16 fields, saw 25\\nSkipping line 36450: expected 16 fields, saw 25\\nSkipping line 36776: expected 16 fields, saw 25\\nSkipping line 40127: expected 16 fields, saw 25\\nSkipping line 40332: expected 16 fields, saw 25\\nSkipping line 40636: expected 16 fields, saw 25\\n'\n"
     ]
    }
   ],
   "source": [
    "df_list = []\n",
    "\n",
    "for file in data_filenames:\n",
    "    temp_df = pd.read_csv(file, error_bad_lines=False)\n",
    "    temp_df.drop(columns=['video_error_or_removed'], inplace=True)\n",
    "    df_list.append(temp_df)"
   ]
  },
  {
   "cell_type": "code",
   "execution_count": 6,
   "metadata": {},
   "outputs": [],
   "source": [
    "country_list = [\"Canada\", \"Germany\", \"France\", \"Great Britain\", \"India\", \"Japan\", \"Korea\", \"Mexico\", \"Russia\", \"United States\"]\n",
    "index = 0\n",
    "\n",
    "for df in df_list:\n",
    "    # Add column \"country\"\n",
    "    df[\"country\"] = country_list[index]\n",
    "    index += 1\n",
    "    \n",
    "    # Change date format for \"trending_date\"\n",
    "    # Apply dummy time since time info not available\n",
    "    df[\"trending_date\"] = df['trending_date'].apply(lambda x: \"20\" + x[:2] + \"-\" + x[-2:] + \"-\" + x[3:5] + \"T00:00:00.000Z\")"
   ]
  },
  {
   "cell_type": "markdown",
   "metadata": {},
   "source": [
    "## 1.2 Match Category"
   ]
  },
  {
   "cell_type": "code",
   "execution_count": 7,
   "metadata": {},
   "outputs": [
    {
     "name": "stdout",
     "output_type": "stream",
     "text": [
      "['CA_category_id.json', 'DE_category_id.json', 'FR_category_id.json', 'GB_category_id.json', 'IN_category_id.json', 'JP_category_id.json', 'KR_category_id.json', 'MX_category_id.json', 'RU_category_id.json', 'US_category_id.json']\n"
     ]
    }
   ],
   "source": [
    "# Get all filenames with json extension\n",
    "extension = 'json'\n",
    "category_filenames = [i for i in glob.glob('*.{}'.format(extension))]\n",
    "print(category_filenames)"
   ]
  },
  {
   "cell_type": "code",
   "execution_count": 8,
   "metadata": {},
   "outputs": [],
   "source": [
    "json_list = []\n",
    "\n",
    "for file in category_filenames:\n",
    "    \n",
    "    with open(file) as f:\n",
    "        temp_data = json.load(f)\n",
    "        json_list.append(temp_data)"
   ]
  },
  {
   "cell_type": "code",
   "execution_count": 10,
   "metadata": {},
   "outputs": [],
   "source": [
    "def extract_category(json_data):\n",
    "    category_dict = {\"category_id\": [], \"category\": []}\n",
    "\n",
    "    # Add category for id 29 (not available in json file)\n",
    "    category_dict[\"category_id\"].append(29)\n",
    "    category_dict[\"category\"].append(\"Nonprofits & Activism\")\n",
    "    \n",
    "    # Access the list stored in \"items\"\n",
    "    category_list = json_data[\"items\"]\n",
    "\n",
    "    # Loop through dict in category_list\n",
    "    for i in range(len(category_list)):\n",
    "\n",
    "        # Extract id\n",
    "        category_id = int(category_list[i][\"id\"])\n",
    "        category_dict[\"category_id\"].append(category_id)\n",
    "\n",
    "        # Extract category in nested dict\n",
    "        category = category_list[i][\"snippet\"][\"title\"]\n",
    "        category_dict[\"category\"].append(category)\n",
    "        \n",
    "    # Convert dict to DataFrame\n",
    "    category_df = pd.DataFrame.from_dict(category_dict)\n",
    "    \n",
    "    return category_df"
   ]
  },
  {
   "cell_type": "code",
   "execution_count": 11,
   "metadata": {},
   "outputs": [],
   "source": [
    "category_df_list = []\n",
    "\n",
    "for json_data in json_list:\n",
    "    temp_df = extract_category(json_data)\n",
    "    category_df_list.append(temp_df)"
   ]
  },
  {
   "cell_type": "code",
   "execution_count": 12,
   "metadata": {},
   "outputs": [],
   "source": [
    "merged_list = []\n",
    "\n",
    "for i in range(len(df_list)):\n",
    "    left_join = pd.merge(df_list[i], category_df_list[i], on ='category_id', how ='left') \n",
    "    merged_list.append(left_join)"
   ]
  },
  {
   "cell_type": "markdown",
   "metadata": {},
   "source": [
    "## 1.3 Rearrange Columns"
   ]
  },
  {
   "cell_type": "code",
   "execution_count": 40,
   "metadata": {},
   "outputs": [],
   "source": [
    "# Create list to store new column position\n",
    "column_names = ['video_id',\n",
    "                'trending_date',\n",
    "                'title',\n",
    "                'channel_title',\n",
    "                'category_id',\n",
    "                'category',\n",
    "                'country',\n",
    "                'publish_time',\n",
    "                'tags',\n",
    "                'views',\n",
    "                'likes',\n",
    "                'dislikes',\n",
    "                'comment_count',\n",
    "                'thumbnail_link',\n",
    "                'comments_disabled',\n",
    "                'ratings_disabled',\n",
    "                'description']"
   ]
  },
  {
   "cell_type": "code",
   "execution_count": 41,
   "metadata": {},
   "outputs": [],
   "source": [
    "# Rearrange column position\n",
    "for i in range(len(merged_list)):\n",
    "    merged_list[i] = merged_list[i].reindex(columns=column_names)"
   ]
  },
  {
   "cell_type": "markdown",
   "metadata": {},
   "source": [
    "## 1.4 Combine Files"
   ]
  },
  {
   "cell_type": "code",
   "execution_count": 42,
   "metadata": {},
   "outputs": [],
   "source": [
    "# Combine all files in the list\n",
    "combined_csv_1 = pd.concat(merged_list)"
   ]
  },
  {
   "cell_type": "markdown",
   "metadata": {},
   "source": [
    "# Part 2: Prepare 2020-2021 Data \n",
    "Raw Data Source: https://www.kaggle.com/rsrishav/youtube-trending-video-dataset"
   ]
  },
  {
   "cell_type": "markdown",
   "metadata": {},
   "source": [
    "## 2.1 Read Files"
   ]
  },
  {
   "cell_type": "code",
   "execution_count": 43,
   "metadata": {},
   "outputs": [
    {
     "data": {
      "text/plain": [
       "'E:\\\\Sem 9\\\\IST3134 Big Data Analytics in the Cloud\\\\Assignment (MapReduce)\\\\Raw Data\\\\2020-2021'"
      ]
     },
     "execution_count": 43,
     "metadata": {},
     "output_type": "execute_result"
    }
   ],
   "source": [
    "# Change directory to folder containing csv raw data\n",
    "try:\n",
    "    raw_data_path = os.path.join(\"Raw Data\", \"2020-2021\")\n",
    "    os.chdir(raw_data_path)\n",
    "    \n",
    "except FileNotFoundError:\n",
    "    path_parent = os.path.dirname(os.getcwd())\n",
    "    os.chdir(path_parent)\n",
    "    raw_data_path = os.path.join(\"2020-2021\")\n",
    "    os.chdir(raw_data_path)\n",
    "\n",
    "# Print the current directory \n",
    "os.getcwd()"
   ]
  },
  {
   "cell_type": "code",
   "execution_count": 44,
   "metadata": {},
   "outputs": [],
   "source": [
    "# Get all filenames with csv extension\n",
    "extension = 'csv'\n",
    "data_filenames = [i for i in glob.glob('*.{}'.format(extension))]"
   ]
  },
  {
   "cell_type": "code",
   "execution_count": 21,
   "metadata": {},
   "outputs": [
    {
     "name": "stdout",
     "output_type": "stream",
     "text": [
      "['CA_youtube_trending_data.csv', 'DE_youtube_trending_data.csv', 'FR_youtube_trending_data.csv', 'GB_youtube_trending_data.csv', 'IN_youtube_trending_data.csv', 'JP_youtube_trending_data.csv', 'KR_youtube_trending_data.csv', 'MX_youtube_trending_data.csv', 'RU_youtube_trending_data.csv', 'US_youtube_trending_data.csv']\n"
     ]
    }
   ],
   "source": [
    "print(data_filenames)"
   ]
  },
  {
   "cell_type": "code",
   "execution_count": 45,
   "metadata": {},
   "outputs": [],
   "source": [
    "df_list = []\n",
    "\n",
    "for file in data_filenames:\n",
    "    temp_df = pd.read_csv(file) \n",
    "    \n",
    "    # Remove column \"channelID\"\n",
    "    temp_df.drop(columns=[\"channelId\"], inplace=True)\n",
    "    \n",
    "    # Rename columns to match 2017-2018 dataset\n",
    "    temp_df.rename(columns={\n",
    "        \"channelTitle\": \"channel_title\",\n",
    "        \"categoryId\":  \"category_id\",\n",
    "        \"view_count\": \"views\",\n",
    "        \"publishedAt\":  \"publish_time\",\n",
    "        }, inplace=True)\n",
    "    \n",
    "    df_list.append(temp_df)"
   ]
  },
  {
   "cell_type": "code",
   "execution_count": 46,
   "metadata": {},
   "outputs": [],
   "source": [
    "country_list = [\"Canada\", \"Germany\", \"France\", \"Great Britain\", \"India\", \"Japan\", \"Korea\", \"Mexico\", \"Russia\", \"United States\"]\n",
    "index = 0\n",
    "\n",
    "# Add column \"country\"\n",
    "for df in df_list:\n",
    "    df[\"country\"] = country_list[index]\n",
    "    index += 1"
   ]
  },
  {
   "cell_type": "markdown",
   "metadata": {},
   "source": [
    "## 2.2 Match Category"
   ]
  },
  {
   "cell_type": "code",
   "execution_count": 47,
   "metadata": {},
   "outputs": [
    {
     "name": "stdout",
     "output_type": "stream",
     "text": [
      "['CA_category_id.json', 'DE_category_id.json', 'FR_category_id.json', 'GB_category_id.json', 'IN_category_id.json', 'JP_category_id.json', 'KR_category_id.json', 'MX_category_id.json', 'RU_category_id.json', 'US_category_id.json']\n"
     ]
    }
   ],
   "source": [
    "# Get all filenames with json extension\n",
    "extension = 'json'\n",
    "category_filenames = [i for i in glob.glob('*.{}'.format(extension))]\n",
    "print(category_filenames)"
   ]
  },
  {
   "cell_type": "code",
   "execution_count": 48,
   "metadata": {},
   "outputs": [],
   "source": [
    "json_list = []\n",
    "\n",
    "for file in category_filenames:\n",
    "    \n",
    "    with open(file) as f:\n",
    "        temp_data = json.load(f)\n",
    "        json_list.append(temp_data)"
   ]
  },
  {
   "cell_type": "code",
   "execution_count": 49,
   "metadata": {},
   "outputs": [],
   "source": [
    "category_df_list = []\n",
    "\n",
    "for json_data in json_list:\n",
    "    temp_df = extract_category(json_data)\n",
    "    category_df_list.append(temp_df)"
   ]
  },
  {
   "cell_type": "code",
   "execution_count": 50,
   "metadata": {},
   "outputs": [],
   "source": [
    "merged_list = []\n",
    "\n",
    "for i in range(len(df_list)):\n",
    "    left_join = pd.merge(df_list[i], category_df_list[i], on ='category_id', how ='left')\n",
    "    #left_join[\"category\"].fillna(\"Missing\", inplace = True) \n",
    "    merged_list.append(left_join)"
   ]
  },
  {
   "cell_type": "markdown",
   "metadata": {},
   "source": [
    "## 2.3 Rearrange Columns"
   ]
  },
  {
   "cell_type": "code",
   "execution_count": 62,
   "metadata": {},
   "outputs": [],
   "source": [
    "# Create list to store new column position\n",
    "column_names = ['video_id',\n",
    "                'trending_date',\n",
    "                'title',\n",
    "                'channel_title',\n",
    "                'category_id',\n",
    "                'category',\n",
    "                'country',\n",
    "                'publish_time',\n",
    "                'tags',\n",
    "                'views',\n",
    "                'likes',\n",
    "                'dislikes',\n",
    "                'comment_count',\n",
    "                'thumbnail_link',\n",
    "                'comments_disabled',\n",
    "                'ratings_disabled',\n",
    "                'description']"
   ]
  },
  {
   "cell_type": "code",
   "execution_count": 63,
   "metadata": {},
   "outputs": [],
   "source": [
    "# Rearrange column position\n",
    "for i in range(len(merged_list)):\n",
    "    merged_list[i] = merged_list[i].reindex(columns=column_names)"
   ]
  },
  {
   "cell_type": "markdown",
   "metadata": {},
   "source": [
    "## 2.4 Combine Files"
   ]
  },
  {
   "cell_type": "code",
   "execution_count": 64,
   "metadata": {},
   "outputs": [],
   "source": [
    "# Combine all files in the list\n",
    "combined_csv_2 = pd.concat(merged_list)"
   ]
  },
  {
   "cell_type": "markdown",
   "metadata": {},
   "source": [
    "# Part 3: Combine All Data"
   ]
  },
  {
   "cell_type": "code",
   "execution_count": 65,
   "metadata": {},
   "outputs": [],
   "source": [
    "# Combine 2017-2018 & 2020-2021 data\n",
    "combined_all = pd.concat([combined_csv_1, combined_csv_2])\n",
    "\n",
    "# Go up one directory\n",
    "path_parent = os.path.dirname(os.getcwd())\n",
    "os.chdir(path_parent)\n",
    "\n",
    "# Export to csv\n",
    "combined_all.to_csv( \"combined_all.csv\", index=False, encoding='utf-8-sig')"
   ]
  }
 ],
 "metadata": {
  "kernelspec": {
   "display_name": "Python 3",
   "language": "python",
   "name": "python3"
  },
  "language_info": {
   "codemirror_mode": {
    "name": "ipython",
    "version": 3
   },
   "file_extension": ".py",
   "mimetype": "text/x-python",
   "name": "python",
   "nbconvert_exporter": "python",
   "pygments_lexer": "ipython3",
   "version": "3.7.3"
  }
 },
 "nbformat": 4,
 "nbformat_minor": 2
}
